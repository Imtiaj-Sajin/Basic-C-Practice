{
  "nbformat": 4,
  "nbformat_minor": 0,
  "metadata": {
    "colab": {
      "provenance": [],
      "authorship_tag": "ABX9TyN2FjNCnFT+qHwABA3gtt/x",
      "include_colab_link": true
    },
    "kernelspec": {
      "name": "python3",
      "display_name": "Python 3"
    },
    "language_info": {
      "name": "python"
    }
  },
  "cells": [
    {
      "cell_type": "markdown",
      "metadata": {
        "id": "view-in-github",
        "colab_type": "text"
      },
      "source": [
        "<a href=\"https://colab.research.google.com/github/Imtiaj-Sajin/Basic-Cpp-Practice-1st-Semester/blob/main/bfs_dfs.ipynb\" target=\"_parent\"><img src=\"https://colab.research.google.com/assets/colab-badge.svg\" alt=\"Open In Colab\"/></a>"
      ]
    },
    {
      "cell_type": "code",
      "execution_count": 6,
      "metadata": {
        "colab": {
          "base_uri": "https://localhost:8080/"
        },
        "id": "VaLFGP-CEG6x",
        "outputId": "8ea435a7-6308-43ad-8d6a-c569dfc02725"
      },
      "outputs": [
        {
          "output_type": "stream",
          "name": "stdout",
          "text": [
            "dfs: ['A', 'D', 'H', 'C', 'G', 'F', 'J', 'B', 'E', 'I']\n"
          ]
        }
      ],
      "source": [
        "#dfs\n",
        "def dfs(graph, start):\n",
        "    path = []\n",
        "    stack = [start]\n",
        "\n",
        "    while stack:\n",
        "        v = stack.pop()\n",
        "        if v not in path:\n",
        "            path.append(v)\n",
        "            stack.extend(graph[v])\n",
        "\n",
        "    return path\n",
        "\n",
        "if __name__ == '__main__':\n",
        "    graph = {'A': ['B', 'C', 'D'],\n",
        "             'B': ['E'],\n",
        "             'C': ['F', 'G'],\n",
        "             'D': ['H'],\n",
        "             'E': ['I'],\n",
        "             'F': ['J'],\n",
        "             'G': [],\n",
        "             'H': [],\n",
        "             'I': [],\n",
        "             'J': []}\n",
        "    print('dfs:', dfs(graph, 'A'))"
      ]
    },
    {
      "cell_type": "code",
      "source": [
        "def bfs(graph, start):\n",
        "    path = []\n",
        "    queue = [start]\n",
        "\n",
        "    while queue:\n",
        "        vertex = queue.pop(0)\n",
        "        if vertex not in path:\n",
        "            path=path+[vertex]\n",
        "            queue=queue+graph[vertex]\n",
        "    return path\n",
        "\n",
        "if __name__ == '__main__':\n",
        "    graph = {'A': ['B', 'C', 'D'],\n",
        "             'B': ['E'],\n",
        "             'C': ['F', 'G'],\n",
        "             'D': ['H'],\n",
        "             'E': ['I'],\n",
        "             'F': ['J'],\n",
        "             'G': [],\n",
        "             'H': [],\n",
        "             'I': [],\n",
        "             'J': []}\n",
        "    print('bfs: ', bfs(graph, 'A'))\n"
      ],
      "metadata": {
        "colab": {
          "base_uri": "https://localhost:8080/"
        },
        "id": "JnDiXrVPLiy4",
        "outputId": "8a7b628c-4584-4f1b-a58f-2a313b802574"
      },
      "execution_count": 13,
      "outputs": [
        {
          "output_type": "stream",
          "name": "stdout",
          "text": [
            "bfs:  ['A', 'B', 'C', 'D', 'E', 'F', 'G', 'H', 'I', 'J']\n"
          ]
        }
      ]
    }
  ]
}